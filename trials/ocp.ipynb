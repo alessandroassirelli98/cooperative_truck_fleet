{
 "cells": [
  {
   "cell_type": "code",
   "execution_count": 14,
   "metadata": {},
   "outputs": [
    {
     "name": "stdout",
     "output_type": "stream",
     "text": [
      "(CVXPY) Oct 06 03:58:06 PM: Encountered unexpected exception importing solver SCS:\n",
      "ImportError(\"dlopen(/Users/alessandroassirelli/anaconda3/lib/python3.11/site-packages/_scs_direct.cpython-311-darwin.so, 0x0002): Library not loaded: @rpath/liblapack.3.dylib\\n  Referenced from: <A08A2CF9-B9A1-393C-A32E-68987F02C61E> /Users/alessandroassirelli/anaconda3/lib/python3.11/site-packages/_scs_direct.cpython-311-darwin.so\\n  Reason: tried: '/Users/alessandroassirelli/anaconda3/lib/python3.11/site-packages/../../liblapack.3.dylib' (no such file), '/Users/alessandroassirelli/anaconda3/lib/python3.11/site-packages/../../liblapack.3.dylib' (no such file), '/Users/alessandroassirelli/anaconda3/bin/../lib/liblapack.3.dylib' (no such file), '/Users/alessandroassirelli/anaconda3/bin/../lib/liblapack.3.dylib' (no such file), '/usr/local/lib/liblapack.3.dylib' (no such file), '/usr/lib/liblapack.3.dylib' (no such file, not in dyld cache)\")\n"
     ]
    },
    {
     "name": "stderr",
     "output_type": "stream",
     "text": [
      "/var/folders/lh/93lccf9x56l539tw7z9d404r0000gn/T/ipykernel_98185/208461429.py:7: MatplotlibDeprecationWarning: The seaborn styles shipped by Matplotlib are deprecated since 3.6, as they no longer correspond to the styles shipped by seaborn. However, they will remain available as 'seaborn-v0_8-<style>'. Alternatively, directly use the seaborn API instead.\n",
      "  plt.style.use('seaborn')\n"
     ]
    }
   ],
   "source": [
    "import numpy as np\n",
    "import scipy as sp\n",
    "import cvxopt as cp\n",
    "import cvxpy as cpy\n",
    "import matplotlib.pyplot as plt\n",
    "import casadi as cas\n",
    "plt.style.use('seaborn')"
   ]
  },
  {
   "cell_type": "code",
   "execution_count": 2,
   "metadata": {},
   "outputs": [
    {
     "name": "stdout",
     "output_type": "stream",
     "text": [
      "\n",
      "******************************************************************************\n",
      "This program contains Ipopt, a library for large-scale nonlinear optimization.\n",
      " Ipopt is released as open source code under the Eclipse Public License (EPL).\n",
      "         For more information visit https://github.com/coin-or/Ipopt\n",
      "******************************************************************************\n",
      "\n",
      "This is Ipopt version 3.14.11, running with linear solver MUMPS 5.4.1.\n",
      "\n",
      "Number of nonzeros in equality constraint Jacobian...:       48\n",
      "Number of nonzeros in inequality constraint Jacobian.:       12\n",
      "Number of nonzeros in Lagrangian Hessian.............:       38\n",
      "\n",
      "Total number of variables............................:       12\n",
      "                     variables with only lower bounds:        0\n",
      "                variables with lower and upper bounds:        0\n",
      "                     variables with only upper bounds:        0\n",
      "Total number of equality constraints.................:       12\n",
      "Total number of inequality constraints...............:       12\n",
      "        inequality constraints with only lower bounds:       12\n",
      "   inequality constraints with lower and upper bounds:        0\n",
      "        inequality constraints with only upper bounds:        0\n",
      "\n",
      "iter    objective    inf_pr   inf_du lg(mu)  ||d||  lg(rg) alpha_du alpha_pr  ls\n",
      "   0  0.0000000e+00 1.00e+03 1.00e+00  -1.0 0.00e+00    -  0.00e+00 0.00e+00   0\n",
      "   1  3.0662444e+05 4.09e-04 8.37e+04  -1.0 8.38e+02    -  1.18e-05 1.00e+00h  1\n",
      "   2  1.8423541e+05 2.24e-04 6.48e+04  -1.0 7.26e+02    -  3.89e-01 2.26e-01f  1\n",
      "   3  1.8166212e+05 2.18e-04 6.41e+04  -1.0 3.22e+02    -  4.21e-01 9.89e-03f  1\n",
      "   4  1.2607397e+05 5.51e-05 4.44e+04  -1.0 3.68e+02    -  7.83e-01 3.08e-01f  1\n",
      "   5  7.5342474e+04 1.90e-04 4.34e+03  -1.0 2.55e+02    -  1.00e+00 9.02e-01f  1\n",
      "   6  7.5241803e+04 1.71e-04 3.83e+03  -1.0 2.47e+01    -  1.00e+00 1.17e-01f  1\n",
      "   7  7.5094457e+04 1.14e-04 2.39e+03  -1.0 2.12e+01    -  1.00e+00 3.75e-01f  1\n",
      "   8  7.5000206e+04 1.22e-05 1.18e+01  -1.0 1.32e+01    -  1.00e+00 9.95e-01f  1\n",
      "   9  7.5000304e+04 6.11e-06 5.92e+00  -1.0 8.59e-01    -  1.00e+00 5.00e-01f  2\n",
      "iter    objective    inf_pr   inf_du lg(mu)  ||d||  lg(rg) alpha_du alpha_pr  ls\n",
      "  10  7.5000269e+04 2.89e-08 1.00e-06  -1.0 9.62e-02    -  1.00e+00 1.00e+00f  1\n",
      "  11  7.5000024e+04 1.31e-10 2.83e-08  -2.5 2.09e-01    -  1.00e+00 1.00e+00f  1\n",
      "Cannot recompute multipliers for feasibility problem.  Error in eq_mult_calculator\n",
      "\n",
      "Number of Iterations....: 11\n",
      "\n",
      "                                   (scaled)                 (unscaled)\n",
      "Objective...............:   7.5000023777469920e+04    7.5000023777469920e+04\n",
      "Dual infeasibility......:   2.5010932884258702e+02    2.5010932884258702e+02\n",
      "Constraint violation....:   1.3108092389302328e-10    1.3108092389302328e-10\n",
      "Variable bound violation:   0.0000000000000000e+00    0.0000000000000000e+00\n",
      "Complementarity.........:   0.0000000000000000e+00    0.0000000000000000e+00\n",
      "Overall NLP error.......:   1.3108092389302328e-10    2.5010932884258702e+02\n",
      "\n",
      "\n",
      "Number of objective function evaluations             = 13\n",
      "Number of objective gradient evaluations             = 12\n",
      "Number of equality constraint evaluations            = 13\n",
      "Number of inequality constraint evaluations          = 13\n",
      "Number of equality constraint Jacobian evaluations   = 12\n",
      "Number of inequality constraint Jacobian evaluations = 12\n",
      "Number of Lagrangian Hessian evaluations             = 11\n",
      "Total seconds in IPOPT                               = 0.010\n",
      "\n",
      "EXIT: Optimal Solution Found.\n",
      "      solver  :   t_proc      (avg)   t_wall      (avg)    n_eval\n",
      "       nlp_f  |  15.00us (  1.15us)  13.50us (  1.04us)        13\n",
      "       nlp_g  |  27.00us (  2.08us)  15.54us (  1.20us)        13\n",
      "  nlp_grad_f  |  17.00us (  1.31us)  15.08us (  1.16us)        13\n",
      "  nlp_hess_l  |  18.00us (  1.64us)  12.50us (  1.14us)        11\n",
      "   nlp_jac_g  |  17.00us (  1.31us)  15.62us (  1.20us)        13\n",
      "       total  |   9.22ms (  9.22ms)  11.81ms ( 11.81ms)         1\n"
     ]
    }
   ],
   "source": [
    "# QP Formulation\n",
    "S = 1000\n",
    "ks = [1, 1, 0.5, 0.5, 0.5, 0.5]\n",
    "kh = [2, 0.5, 0.5, 0.5, 0.5, 0.5]\n",
    "n = 6\n",
    "\n",
    "opti2 = cas.Opti()\n",
    "U = opti2.variable(n*2)\n",
    "\n",
    "A = np.zeros((2*n, 2*n))\n",
    "\n",
    "for j in range(2*n):\n",
    "    A[0, j] = 1 if (j % 2 == 0  and j + 2 != 2*n) else 0\n",
    "    A[0, -1] = -1\n",
    "\n",
    "for i in range(n - 1):\n",
    "    for j in range(2 * n):\n",
    "        if j == 2*i + 1:\n",
    "            A[i + 1,j] = -1\n",
    "        elif j % 2 == 0 and j != 2*i:\n",
    "            A[i + 1,j] = 1\n",
    "\n",
    "for i in range(0, n):\n",
    "    for j in range(2*i, 2*n):\n",
    "        A[n + i, j : j + 2] = np.array([1,1])\n",
    "        break\n",
    "\n",
    "b = np.zeros((2*n))\n",
    "b[n:] = np.ones(n) * S\n",
    "\n",
    "B = np.zeros((n, 2* n))\n",
    "for i in range(0, n):\n",
    "    for j in range(2*i, 2*n):\n",
    "        B[i, j : j + 2] = np.array([kh[i] + ks[i], ks[i]])\n",
    "        break\n",
    "\n",
    "L = np.ones(n) * 100\n",
    "\n",
    "life = L - B @ U\n",
    "\n",
    "opti2.subject_to( A @ U - b == 0)\n",
    "opti2.subject_to( U >= np.zeros((n*2,1)))\n",
    "\n",
    "opti2.minimize(cas.sumsqr( cas.diff(life) ) )\n",
    "# opti2.minimize(cas.sumsqr(B @ U)) \n",
    "\n",
    "p_opts = {\"expand\":True}\n",
    "s_opts = {\"max_iter\": 10000}\n",
    "opti2.solver('ipopt', p_opts, s_opts)\n",
    "\n",
    "sol = opti2.solve()"
   ]
  },
  {
   "cell_type": "code",
   "execution_count": 29,
   "metadata": {},
   "outputs": [],
   "source": [
    "# QP Formulation\n",
    "S = 1000\n",
    "ks = [1, 1, 0.5]\n",
    "kh = [2, 0.5, 0.5]\n",
    "n = 3\n",
    "\n",
    "\n",
    "A = np.zeros((2*n, 2*n))\n",
    "\n",
    "for j in range(2*n):\n",
    "    A[0, j] = 1 if (j % 2 == 0  and j + 2 != 2*n) else 0\n",
    "    A[0, -1] = -1\n",
    "\n",
    "for i in range(n - 1):\n",
    "    for j in range(2 * n):\n",
    "        if j == 2*i + 1:\n",
    "            A[i + 1,j] = -1\n",
    "        elif j % 2 == 0 and j != 2*i:\n",
    "            A[i + 1,j] = 1\n",
    "\n",
    "for i in range(0, n):\n",
    "    for j in range(2*i, 2*n):\n",
    "        A[n + i, j : j + 2] = np.array([1,1])\n",
    "        break\n",
    "\n",
    "b = np.zeros((2*n))\n",
    "b[n:] = np.ones(n) * S\n",
    "\n",
    "P = np.zeros((2*n, 2* n))\n",
    "for i in range(0, n):\n",
    "    for j in range(2*i, 2*n):\n",
    "        P[i, j : j + 2] = np.array([kh[i] + ks[i], ks[i]])\n",
    "        break\n",
    "\n",
    "q = np.ones(2*n) * 100\n",
    "q[n:] = 0\n",
    "G = np.eye(2*n)*-1\n",
    "h = np.zeros(2*n)\n",
    "\n"
   ]
  },
  {
   "cell_type": "code",
   "execution_count": 9,
   "metadata": {},
   "outputs": [],
   "source": [
    "from cvxopt import matrix\n",
    "P = matrix(P, tc='d')\n",
    "A = matrix(A, tc='d')\n",
    "b = matrix(b, tc='d')\n",
    "q = matrix(q, tc='d')\n",
    "G = matrix(G, tc='d')\n",
    "h = matrix(h, tc='d')"
   ]
  },
  {
   "cell_type": "code",
   "execution_count": 48,
   "metadata": {},
   "outputs": [],
   "source": [
    "x = cpy.Variable(2*n)\n",
    "obj = cpy.Maximize(0.5*cpy.sum(q - P@x))\n",
    "constraints = [A@x == b, G@x <= h]"
   ]
  },
  {
   "cell_type": "code",
   "execution_count": 49,
   "metadata": {},
   "outputs": [],
   "source": [
    "prob = cpy.Problem(obj, constraints)\n",
    "sol = prob.solve()"
   ]
  },
  {
   "cell_type": "code",
   "execution_count": 50,
   "metadata": {},
   "outputs": [
    {
     "data": {
      "text/plain": [
       "array([2.86456497e-08, 1.00000000e+03, 5.00000000e+02, 5.00000000e+02,\n",
       "       5.00000000e+02, 5.00000000e+02])"
      ]
     },
     "execution_count": 50,
     "metadata": {},
     "output_type": "execute_result"
    }
   ],
   "source": [
    "x.value"
   ]
  },
  {
   "cell_type": "code",
   "execution_count": 47,
   "metadata": {},
   "outputs": [],
   "source": [
    "u = np.array(np.split(np.round(sol.value(U),0),n))\n",
    "u = u[u[:, 1].argsort()]\n",
    "s = np.arange(0, S, 1)\n",
    "u_plt = np.zeros((n,S))\n",
    "\n",
    "s_ = 0\n",
    "for i in range(n):\n",
    "    for k in range(s_, S):\n",
    "        if u[i,0] + s_ > k:\n",
    "            u_plt[i, k] = 1\n",
    "        else: \n",
    "            s_ = k\n",
    "            break\n",
    "        "
   ]
  },
  {
   "cell_type": "code",
   "execution_count": 48,
   "metadata": {},
   "outputs": [
    {
     "data": {
      "image/png": "[encoded data removed]",
      "text/plain": [
       "<Figure size 800x550 with 6 Axes>"
      ]
     },
     "metadata": {},
     "output_type": "display_data"
    }
   ],
   "source": [
    "for i in range(n):\n",
    "    plt.subplot(n,1,i+1)\n",
    "    plt.plot(s, u_plt[i,:])"
   ]
  },
  {
   "cell_type": "code",
   "execution_count": null,
   "metadata": {},
   "outputs": [],
   "source": []
  }
 ],
 "metadata": {
  "kernelspec": {
   "display_name": "Python 3",
   "language": "python",
   "name": "python3"
  },
  "language_info": {
   "codemirror_mode": {
    "name": "ipython",
    "version": 3
   },
   "file_extension": ".py",
   "mimetype": "text/x-python",
   "name": "python",
   "nbconvert_exporter": "python",
   "pygments_lexer": "ipython3",
   "version": "3.11.0"
  }
 },
 "nbformat": 4,
 "nbformat_minor": 2
}
