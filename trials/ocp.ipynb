{
 "cells": [
  {
   "cell_type": "code",
   "execution_count": 1,
   "metadata": {},
   "outputs": [
    {
     "name": "stderr",
     "output_type": "stream",
     "text": [
      "/var/folders/lh/93lccf9x56l539tw7z9d404r0000gn/T/ipykernel_48996/418906186.py:5: MatplotlibDeprecationWarning: The seaborn styles shipped by Matplotlib are deprecated since 3.6, as they no longer correspond to the styles shipped by seaborn. However, they will remain available as 'seaborn-v0_8-<style>'. Alternatively, directly use the seaborn API instead.\n",
      "  plt.style.use('seaborn')\n"
     ]
    }
   ],
   "source": [
    "import numpy as np\n",
    "import scipy as sp\n",
    "import matplotlib.pyplot as plt\n",
    "import casadi as cas\n",
    "plt.style.use('seaborn')"
   ]
  },
  {
   "cell_type": "code",
   "execution_count": 44,
   "metadata": {},
   "outputs": [],
   "source": [
    "n = 2\n",
    "N = 10\n",
    "dt = 10\n",
    "TOL = 1e-4\n",
    "opti = cas.Opti()\n",
    "X = opti.variable(n, N+1)\n",
    "U = opti.variable(n, N)\n",
    "C = np.zeros((n,n))\n",
    "\n",
    "x0 = np.array([100, 100])\n",
    "u0 = np.array([1, 0])\n",
    "ks = 1\n",
    "kh = 0.5\n",
    "alpha = 100 # Penalty on switching\n",
    "C = np.array([[ks + kh, ks], [ks, ks + kh]])\n",
    "\n",
    "cost = 0\n",
    "for i in range(N):\n",
    "    consumption =  C @ U[:, i] * dt\n",
    "    \n",
    "    #consumption += cas.if_else(cas.sumsqr(U[:,i] - U[:, i-1]) > TOL, U[:,i] * alpha * dt,  0)\n",
    "    # cost += cas.if_else(cas.sumsqr(U[:,i] - U[:, i-1]) > TOL, 100,  0)\n",
    "\n",
    "    cost -= 10* cas.sumsqr(X[0,i] - X[1,i]) \n",
    "\n",
    "    opti.subject_to(X[:,i+1] == X[:,i] - consumption)\n",
    "    # opti.subject_to(U[0,i]**2 + U[1,i]**2 == 1)\n",
    "    opti.subject_to( cas.mmax(U[:,i]) == 1)\n",
    "    opti.subject_to( cas.mmin(U[:,i]) == 0)\n"
   ]
  },
  {
   "cell_type": "code",
   "execution_count": null,
   "metadata": {},
   "outputs": [],
   "source": []
  },
  {
   "cell_type": "code",
   "execution_count": 45,
   "metadata": {},
   "outputs": [
    {
     "name": "stdout",
     "output_type": "stream",
     "text": [
      "This is Ipopt version 3.14.11, running with linear solver MUMPS 5.4.1.\n",
      "\n",
      "Number of nonzeros in equality constraint Jacobian...:      122\n",
      "Number of nonzeros in inequality constraint Jacobian.:        0\n",
      "Number of nonzeros in Lagrangian Hessian.............:       60\n",
      "\n",
      "Total number of variables............................:       42\n",
      "                     variables with only lower bounds:        0\n",
      "                variables with lower and upper bounds:        0\n",
      "                     variables with only upper bounds:        0\n",
      "Total number of equality constraints.................:       42\n",
      "Total number of inequality constraints...............:        0\n",
      "        inequality constraints with only lower bounds:        0\n",
      "   inequality constraints with lower and upper bounds:        0\n",
      "        inequality constraints with only upper bounds:        0\n",
      "\n",
      "iter    objective    inf_pr   inf_du lg(mu)  ||d||  lg(rg) alpha_du alpha_pr  ls\n",
      "   0 -0.0000000e+00 1.00e+02 0.00e+00  -1.0 0.00e+00    -  0.00e+00 0.00e+00   0\n",
      "   1 -6.8432125e-21 5.04e-01 8.89e+07  -1.0 1.00e+02   2.0 1.00e+00 1.00e+00h  1\n",
      "   2 -8.9996029e+03 5.04e-01 3.51e+02  -1.0 1.05e+01   1.5 1.00e+00 1.00e+00h  1\n",
      "   3 -2.2509726e+03 5.18e-05 5.84e+01  -1.0 5.25e+00   1.0 1.00e+00 1.00e+00h  1\n",
      "   4 -2.2497816e+03 9.75e-06 2.10e-02  -1.0 5.68e-03   0.6 1.00e+00 1.00e+00h  1\n",
      "   5 -2.2500000e+03 3.33e-09 9.53e-04  -3.8 7.72e-04   0.1 1.00e+00 1.00e+00f  1\n",
      "\n",
      "Number of Iterations....: 5\n",
      "\n",
      "                                   (scaled)                 (unscaled)\n",
      "Objective...............:  -2.2500000030199571e+03   -2.2500000030199571e+03\n",
      "Dual infeasibility......:   1.3968921776224011e-11    1.3968921776224011e-11\n",
      "Constraint violation....:   3.3313642681802549e-09    3.3313642681802549e-09\n",
      "Variable bound violation:   0.0000000000000000e+00    0.0000000000000000e+00\n",
      "Complementarity.........:   0.0000000000000000e+00    0.0000000000000000e+00\n",
      "Overall NLP error.......:   3.3313642681802549e-09    3.3313642681802549e-09\n",
      "\n",
      "\n",
      "Number of objective function evaluations             = 6\n",
      "Number of objective gradient evaluations             = 6\n",
      "Number of equality constraint evaluations            = 6\n",
      "Number of inequality constraint evaluations          = 0\n",
      "Number of equality constraint Jacobian evaluations   = 6\n",
      "Number of inequality constraint Jacobian evaluations = 0\n",
      "Number of Lagrangian Hessian evaluations             = 5\n",
      "Total seconds in IPOPT                               = 0.004\n",
      "\n",
      "EXIT: Optimal Solution Found.\n",
      "      solver  :   t_proc      (avg)   t_wall      (avg)    n_eval\n",
      "       nlp_f  |   6.00us (  1.00us)   6.12us (  1.02us)         6\n",
      "       nlp_g  |  12.00us (  2.00us)   8.92us (  1.49us)         6\n",
      "  nlp_grad_f  |  11.00us (  1.57us)  10.71us (  1.53us)         7\n",
      "  nlp_hess_l  |   5.00us (  1.00us)   6.00us (  1.20us)         5\n",
      "   nlp_jac_g  |  15.00us (  2.14us)  14.12us (  2.02us)         7\n",
      "       total  |   4.31ms (  4.31ms)   3.92ms (  3.92ms)         1\n"
     ]
    }
   ],
   "source": [
    "opti.minimize(cost)\n",
    "opti.subject_to(X[:, 0] == x0)\n",
    "opti.set_initial(U, np.ones((n, N)))\n",
    "p_opts = {\"expand\":True}\n",
    "s_opts = {\"max_iter\": 10000}\n",
    "\n",
    "opti.solver('ipopt', p_opts, s_opts)\n",
    "\n",
    "sol = opti.solve()"
   ]
  },
  {
   "cell_type": "code",
   "execution_count": 46,
   "metadata": {},
   "outputs": [
    {
     "data": {
      "text/plain": [
       "array([[1., 0., 0., 1., 0., 1., 0., 0., 1., 0.],\n",
       "       [0., 1., 1., 0., 1., 0., 1., 1., 0., 1.]])"
      ]
     },
     "execution_count": 46,
     "metadata": {},
     "output_type": "execute_result"
    }
   ],
   "source": [
    "np.round(sol.value(U),0)"
   ]
  },
  {
   "cell_type": "code",
   "execution_count": 47,
   "metadata": {},
   "outputs": [
    {
     "data": {
      "text/plain": [
       "array([[1.00000000e+00, 3.04760889e-09, 2.89951931e-09, 1.00000000e+00,\n",
       "        2.41362313e-09, 1.00000000e+00, 1.73040746e-09, 1.33747037e-09,\n",
       "        1.00000000e+00, 4.91400096e-10],\n",
       "       [3.33136427e-09, 1.00000000e+00, 1.00000000e+00, 2.85432840e-09,\n",
       "        1.00000000e+00, 2.20343969e-09, 1.00000000e+00, 1.00000000e+00,\n",
       "        9.10014889e-10, 1.00000000e+00]])"
      ]
     },
     "execution_count": 47,
     "metadata": {},
     "output_type": "execute_result"
    }
   ],
   "source": [
    "sol.value(U)"
   ]
  },
  {
   "cell_type": "code",
   "execution_count": 48,
   "metadata": {},
   "outputs": [
    {
     "data": {
      "text/plain": [
       "-2250.000003019957"
      ]
     },
     "execution_count": 48,
     "metadata": {},
     "output_type": "execute_result"
    }
   ],
   "source": [
    "opti.value(cost)"
   ]
  },
  {
   "cell_type": "code",
   "execution_count": 49,
   "metadata": {},
   "outputs": [
    {
     "data": {
      "text/plain": [
       "[<matplotlib.lines.Line2D at 0x1221b4ed0>]"
      ]
     },
     "execution_count": 49,
     "metadata": {},
     "output_type": "execute_result"
    },
    {
     "data": {
      "image/png": "[encoded data removed]",
      "text/plain": [
       "<Figure size 800x550 with 1 Axes>"
      ]
     },
     "metadata": {},
     "output_type": "display_data"
    }
   ],
   "source": [
    "x1 = sol.value(X)[0,:]\n",
    "x2 = sol.value(X)[1,:]\n",
    "plt.plot(x1)\n",
    "plt.plot(x2)\n"
   ]
  },
  {
   "cell_type": "code",
   "execution_count": 174,
   "metadata": {},
   "outputs": [
    {
     "name": "stdout",
     "output_type": "stream",
     "text": [
      "This is Ipopt version 3.14.11, running with linear solver MUMPS 5.4.1.\n",
      "\n",
      "Number of nonzeros in equality constraint Jacobian...:       48\n",
      "Number of nonzeros in inequality constraint Jacobian.:       12\n",
      "Number of nonzeros in Lagrangian Hessian.............:       38\n",
      "\n",
      "Total number of variables............................:       12\n",
      "                     variables with only lower bounds:        0\n",
      "                variables with lower and upper bounds:        0\n",
      "                     variables with only upper bounds:        0\n",
      "Total number of equality constraints.................:       12\n",
      "Total number of inequality constraints...............:       12\n",
      "        inequality constraints with only lower bounds:       12\n",
      "   inequality constraints with lower and upper bounds:        0\n",
      "        inequality constraints with only upper bounds:        0\n",
      "\n",
      "iter    objective    inf_pr   inf_du lg(mu)  ||d||  lg(rg) alpha_du alpha_pr  ls\n",
      "   0  0.0000000e+00 1.00e+03 1.00e+00  -1.0 0.00e+00    -  0.00e+00 0.00e+00   0\n",
      "   1  2.4752761e+05 4.10e-04 8.36e+04  -1.0 8.36e+02    -  1.18e-05 1.00e+00h  1\n",
      "   2  1.1221049e+05 1.38e-04 5.59e+04  -1.0 4.91e+02    -  2.54e-01 3.31e-01f  1\n",
      "   3  1.1078552e+05 1.34e-04 5.54e+04  -1.0 2.93e+02    -  5.36e-01 9.05e-03f  1\n",
      "   4  9.3669819e+04 3.67e-05 4.20e+04  -1.0 2.44e+02    -  8.05e-01 2.42e-01f  1\n",
      "   5  7.2261091e+04 1.58e-04 8.13e+03  -1.0 1.78e+02    -  1.00e+00 8.06e-01f  1\n",
      "   6  7.1428872e+04 3.97e-05 1.00e-06  -1.0 3.45e+01    -  1.00e+00 1.00e+00f  1\n",
      "   7  7.1428580e+04 1.39e-12 2.83e-08  -2.5 1.36e-03    -  1.00e+00 1.00e+00f  1\n",
      "Cannot recompute multipliers for feasibility problem.  Error in eq_mult_calculator\n",
      "\n",
      "Number of Iterations....: 7\n",
      "\n",
      "                                   (scaled)                 (unscaled)\n",
      "Objective...............:   7.1428579912122193e+04    7.1428579912122193e+04\n",
      "Dual infeasibility......:   2.8571430518544611e+02    2.8571430518544611e+02\n",
      "Constraint violation....:   1.3926637620897964e-12    1.3926637620897964e-12\n",
      "Variable bound violation:   0.0000000000000000e+00    0.0000000000000000e+00\n",
      "Complementarity.........:   0.0000000000000000e+00    0.0000000000000000e+00\n",
      "Overall NLP error.......:   1.3926637620897964e-12    2.8571430518544611e+02\n",
      "\n",
      "\n",
      "Number of objective function evaluations             = 8\n",
      "Number of objective gradient evaluations             = 8\n",
      "Number of equality constraint evaluations            = 8\n",
      "Number of inequality constraint evaluations          = 8\n",
      "Number of equality constraint Jacobian evaluations   = 8\n",
      "Number of inequality constraint Jacobian evaluations = 8\n",
      "Number of Lagrangian Hessian evaluations             = 7\n",
      "Total seconds in IPOPT                               = 0.004\n",
      "\n",
      "EXIT: Optimal Solution Found.\n",
      "      solver  :   t_proc      (avg)   t_wall      (avg)    n_eval\n",
      "       nlp_f  |  10.00us (  1.25us)   8.08us (  1.01us)         8\n",
      "       nlp_g  |  15.00us (  1.88us)   9.46us (  1.18us)         8\n",
      "  nlp_grad_f  |  16.00us (  1.78us)  11.75us (  1.31us)         9\n",
      "  nlp_hess_l  |  11.00us (  1.57us)   8.67us (  1.24us)         7\n",
      "   nlp_jac_g  |  13.00us (  1.44us)  11.58us (  1.29us)         9\n",
      "       total  |   3.77ms (  3.77ms)   3.74ms (  3.74ms)         1\n"
     ]
    }
   ],
   "source": [
    "# QP Formulation\n",
    "S = 1000\n",
    "ks = [1, 1, 1, 0.5, 0.5, 0.5]\n",
    "kh = [0.5, 0.5, 0.5, 0.5, 0.5, 0.5]\n",
    "n = 6\n",
    "\n",
    "opti2 = cas.Opti()\n",
    "U = opti2.variable(n*2)\n",
    "\n",
    "C = np.zeros((2*n, 2*n))\n",
    "\n",
    "for j in range(2*n):\n",
    "    C[0, j] = 1 if (j % 2 == 0  and j + 2 != 2*n) else 0\n",
    "    C[0, -1] = -1\n",
    "\n",
    "for i in range(n - 1):\n",
    "    for j in range(2 * n):\n",
    "        if j == 2*i + 1:\n",
    "            C[i + 1,j] = -1\n",
    "        elif j % 2 == 0 and j != 2*i:\n",
    "            C[i + 1,j] = 1\n",
    "\n",
    "for i in range(0, n):\n",
    "    for j in range(2*i, 2*n):\n",
    "        C[n + i, j : j + 2] = np.array([1,1])\n",
    "        break\n",
    "\n",
    "b = np.zeros((2*n))\n",
    "b[n:] = np.ones(n) * S\n",
    "\n",
    "B = np.zeros((n, 2* n))\n",
    "for i in range(0, n):\n",
    "    for j in range(2*i, 2*n):\n",
    "        B[i, j : j + 2] = np.array([kh[i] + ks[i], ks[i]])\n",
    "        break\n",
    "\n",
    "L = np.ones(n) * 100\n",
    "\n",
    "life = L - B @ U\n",
    "\n",
    "opti2.subject_to( C @ U - b == 0)\n",
    "opti2.subject_to( U >= np.zeros((n*2,1)))\n",
    "\n",
    "opti2.minimize(cas.sumsqr( cas.diff(life) ) )\n",
    "# opti2.minimize(cas.sumsqr(B @ U)) \n",
    "\n",
    "p_opts = {\"expand\":True}\n",
    "s_opts = {\"max_iter\": 10000}\n",
    "opti2.solver('ipopt', p_opts, s_opts)\n",
    "\n",
    "sol = opti2.solve()"
   ]
  },
  {
   "cell_type": "code",
   "execution_count": 175,
   "metadata": {},
   "outputs": [
    {
     "data": {
      "text/plain": [
       "array([3.95996138e-05, 9.99999960e+02, 3.96081812e-05, 9.99999960e+02,\n",
       "       9.89047582e-06, 9.99999990e+02, 5.71428544e+02, 4.28571456e+02,\n",
       "       2.85714251e+02, 7.14285749e+02, 1.42857115e+02, 8.57142885e+02])"
      ]
     },
     "execution_count": 175,
     "metadata": {},
     "output_type": "execute_result"
    }
   ],
   "source": [
    "sol.value(U)"
   ]
  },
  {
   "cell_type": "code",
   "execution_count": 162,
   "metadata": {},
   "outputs": [],
   "source": [
    "B = np.zeros((n, 2* n))\n",
    "for i in range(0, n):\n",
    "    for j in range(2*i, 2*n):\n",
    "        B[i, j : j + 2] = np.array([kh + ks, ks])\n",
    "        break"
   ]
  },
  {
   "cell_type": "code",
   "execution_count": 163,
   "metadata": {},
   "outputs": [
    {
     "data": {
      "text/plain": [
       "array([[1.5, 1. , 0. , 0. , 0. , 0. , 0. , 0. , 0. , 0. , 0. , 0. ],\n",
       "       [0. , 0. , 1.5, 1. , 0. , 0. , 0. , 0. , 0. , 0. , 0. , 0. ],\n",
       "       [0. , 0. , 0. , 0. , 1.5, 1. , 0. , 0. , 0. , 0. , 0. , 0. ],\n",
       "       [0. , 0. , 0. , 0. , 0. , 0. , 1.5, 1. , 0. , 0. , 0. , 0. ],\n",
       "       [0. , 0. , 0. , 0. , 0. , 0. , 0. , 0. , 1.5, 1. , 0. , 0. ],\n",
       "       [0. , 0. , 0. , 0. , 0. , 0. , 0. , 0. , 0. , 0. , 1.5, 1. ]])"
      ]
     },
     "execution_count": 163,
     "metadata": {},
     "output_type": "execute_result"
    }
   ],
   "source": [
    "B"
   ]
  },
  {
   "cell_type": "code",
   "execution_count": 126,
   "metadata": {},
   "outputs": [],
   "source": [
    "C[n+i, 0:2] = np.array([1,1])"
   ]
  },
  {
   "cell_type": "code",
   "execution_count": 124,
   "metadata": {},
   "outputs": [
    {
     "data": {
      "text/plain": [
       "11"
      ]
     },
     "execution_count": 124,
     "metadata": {},
     "output_type": "execute_result"
    }
   ],
   "source": []
  },
  {
   "cell_type": "code",
   "execution_count": null,
   "metadata": {},
   "outputs": [],
   "source": []
  }
 ],
 "metadata": {
  "kernelspec": {
   "display_name": "Python 3",
   "language": "python",
   "name": "python3"
  },
  "language_info": {
   "codemirror_mode": {
    "name": "ipython",
    "version": 3
   },
   "file_extension": ".py",
   "mimetype": "text/x-python",
   "name": "python",
   "nbconvert_exporter": "python",
   "pygments_lexer": "ipython3",
   "version": "3.11.4"
  }
 },
 "nbformat": 4,
 "nbformat_minor": 2
}
