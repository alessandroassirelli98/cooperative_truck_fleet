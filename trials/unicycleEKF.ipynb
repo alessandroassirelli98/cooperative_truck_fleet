{
 "cells": [
  {
   "cell_type": "code",
   "execution_count": 3,
   "metadata": {},
   "outputs": [
    {
     "name": "stderr",
     "output_type": "stream",
     "text": [
      "C:\\Users\\aless\\AppData\\Local\\Temp\\ipykernel_18080\\418906186.py:5: MatplotlibDeprecationWarning: The seaborn styles shipped by Matplotlib are deprecated since 3.6, as they no longer correspond to the styles shipped by seaborn. However, they will remain available as 'seaborn-v0_8-<style>'. Alternatively, directly use the seaborn API instead.\n",
      "  plt.style.use('seaborn')\n"
     ]
    }
   ],
   "source": [
    "import numpy as np\n",
    "import scipy as sp\n",
    "import matplotlib.pyplot as plt\n",
    "import casadi as cas\n",
    "plt.style.use('seaborn')"
   ]
  },
  {
   "cell_type": "code",
   "execution_count": 4,
   "metadata": {},
   "outputs": [],
   "source": [
    "# Model\n",
    "dt = 0.01\n",
    "X = cas.SX.sym('X', 3)\n",
    "Eps = cas.SX.sym('Eps', 2)\n",
    "U = cas.SX.sym('U', 2)\n",
    "F = cas.vertcat((X[0]) + (cas.cos(X[2]) * (U[0] + Eps[0]) *dt ),\n",
    "     (X[1]) + (cas.sin(X[2]) * (U[0] + Eps[0]) *dt),\n",
    "     (X[2]) + (U[1] + Eps[1]) * dt)"
   ]
  },
  {
   "cell_type": "code",
   "execution_count": 5,
   "metadata": {},
   "outputs": [],
   "source": [
    "A = cas.jacobian(F, X)\n",
    "G = cas.jacobian(F, Eps)\n",
    "A_fun = cas.Function('A_fun', [X, U, Eps], [A])\n",
    "G_fun = cas.Function('G_fun', [X, U, Eps], [G])\n",
    "F_fun = cas.Function('F_fun', [X, U, Eps], [F])"
   ]
  },
  {
   "cell_type": "code",
   "execution_count": 6,
   "metadata": {},
   "outputs": [
    {
     "data": {
      "text/plain": [
       "SX(@1=1, @2=0.01, \n",
       "[[@1, 00, (-(@2*((U_0+Eps_0)*sin(X_2))))], \n",
       " [00, @1, (@2*((U_0+Eps_0)*cos(X_2)))], \n",
       " [00, 00, @1]])"
      ]
     },
     "execution_count": 6,
     "metadata": {},
     "output_type": "execute_result"
    }
   ],
   "source": [
    "A"
   ]
  },
  {
   "cell_type": "code",
   "execution_count": 7,
   "metadata": {},
   "outputs": [],
   "source": [
    "N = 10000\n",
    "\n",
    "x0 = np.array([0, 0, 0])\n",
    "x_hat = np.zeros((3, N))\n",
    "x_true = np.zeros((3, N))\n",
    "\n",
    "P = np.zeros((3, 3, N))\n",
    "P[:,:,0] = np.eye(3) * 0\n",
    "x_hat[:,0] = x0\n",
    "x_true[:,0] = x0\n",
    "\n",
    "u = np.array([1, 0.01])\n",
    "\n",
    "\n",
    "H = np.array([[0, 0, 0], [0, 0, 0], [0, 0, 1]])\n",
    "\n",
    "sigma_xi_x = 1\n",
    "sigma_u = 1\n",
    "\n",
    "eps = np.random.multivariate_normal([0, 0], np.eye(2) * sigma_u**2, N).T\n",
    "xi = np.random.multivariate_normal([0, 0, 0], np.eye(3) * sigma_xi_x**2, N).T\n",
    "\n",
    "\n",
    "for i in range(N-1):\n",
    "    # Compute ground truth\n",
    "    x_true[:,i+1] = F_fun(x_true[:,i], u, 0*eps[:,i]).full().flatten()\n",
    "\n",
    "    \n",
    "    A = A_fun(x_hat[:,i], u, eps[:,i]).full()\n",
    "    G = G_fun(x_hat[:,i], u, eps[:,i]).full()\n",
    "    Q = np.eye(2) * sigma_u**2\n",
    "    R = np.eye(3)*sigma_xi_x**2\n",
    "\n",
    "    \n",
    "\n",
    "    # Prediction step\n",
    "    x_hat[:,i+1] = F_fun(x_hat[:,i], u, eps[:,i]).full().flatten()\n",
    "    P[:,:, i+1] = A @ P[:,:,i] @ A.T + G @ Q @ G.T\n",
    "\n",
    "    # Update step\n",
    "    z = H @ x_true[:,i] + xi[:,i]\n",
    "    s = H @ P[:,:,i+1] @ H.T + R\n",
    "    w = P[:,:,i+1] @ H.T @ np.linalg.inv(s)\n",
    "    x_hat[:,i+1] = x_hat[:,i+1] + (w @ (z.T - H @ x_hat[:,i+1]))\n",
    "    P[:,:,i+1] =  (np.eye(3) - w @ H) @ P[:,:,i+1]\n"
   ]
  },
  {
   "cell_type": "code",
   "execution_count": 8,
   "metadata": {},
   "outputs": [
    {
     "data": {
      "text/plain": [
       "[<matplotlib.lines.Line2D at 0x1e37f6051d0>]"
      ]
     },
     "execution_count": 8,
     "metadata": {},
     "output_type": "execute_result"
    },
    {
     "data": {
      "image/png": "[encoded data removed]",
      "text/plain": [
       "<Figure size 800x550 with 1 Axes>"
      ]
     },
     "metadata": {},
     "output_type": "display_data"
    }
   ],
   "source": [
    "plt.plot(x_true[0,:], x_true[1,:])\n",
    "plt.plot(x_hat[0,:], x_hat[1,:])\n",
    "# plt.legend(['True', 'Estimate'])"
   ]
  },
  {
   "cell_type": "code",
   "execution_count": null,
   "metadata": {},
   "outputs": [],
   "source": []
  },
  {
   "cell_type": "code",
   "execution_count": null,
   "metadata": {},
   "outputs": [],
   "source": []
  }
 ],
 "metadata": {
  "kernelspec": {
   "display_name": "Python 3",
   "language": "python",
   "name": "python3"
  },
  "language_info": {
   "codemirror_mode": {
    "name": "ipython",
    "version": 3
   },
   "file_extension": ".py",
   "mimetype": "text/x-python",
   "name": "python",
   "nbconvert_exporter": "python",
   "pygments_lexer": "ipython3",
   "version": "3.11.4"
  }
 },
 "nbformat": 4,
 "nbformat_minor": 2
}
